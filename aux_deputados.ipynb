{
 "cells": [
  {
   "cell_type": "code",
   "execution_count": 1,
   "metadata": {},
   "outputs": [
    {
     "name": "stdout",
     "output_type": "stream",
     "text": [
      "Arquivo Parquet 'deputadosPartidos.parquet' enviado com sucesso para o Azure Blob Storage.\n",
      "Processamento dos dados de deputados concluído.\n"
     ]
    }
   ],
   "source": [
    "import pandas as pd\n",
    "import requests\n",
    "from azure.storage.blob import BlobServiceClient\n",
    "import io\n",
    "import pyarrow.parquet as pq\n",
    "import pyarrow as pa\n",
    "import json\n",
    "import os\n",
    "\n",
    "# Credenciais\n",
    "account_name = 'uvabr'\n",
    "account_key = os.environ['ACCOUNT_KEY']\n",
    "container_name_send = 'gold'\n",
    "\n",
    "def extrair_dados_api(url):\n",
    "    response = requests.get(url)\n",
    "    if response.status_code == 200:\n",
    "        data = response.json()\n",
    "        return data['dados']\n",
    "    else:\n",
    "        print(f\"Erro ao acessar a API: {response.status_code}\")\n",
    "        return None\n",
    "\n",
    "def transformar_dados_para_dataframe(dados):\n",
    "    df = pd.json_normalize(dados)\n",
    "    return df\n",
    "\n",
    "def enviar_parquet_azure(account_name, account_key, container_name_send, file_name, dataframe):\n",
    "    # Conecte-se ao serviço de armazenamento de blob\n",
    "    connect_str = f\"DefaultEndpointsProtocol=https;AccountName={account_name};AccountKey={account_key};EndpointSuffix=core.windows.net\"\n",
    "    blob_service_client = BlobServiceClient.from_connection_string(connect_str)\n",
    "\n",
    "    # Acesse o contêiner\n",
    "    container_client = blob_service_client.get_container_client(container_name_send)\n",
    "\n",
    "    # Converta DataFrame para tabela Parquet\n",
    "    table = pa.Table.from_pandas(dataframe)\n",
    "\n",
    "    # Crie um buffer de memória para escrever os dados Parquet\n",
    "    parquet_buffer = io.BytesIO()\n",
    "    pq.write_table(table, parquet_buffer)\n",
    "\n",
    "    # Envie os dados para o Azure Blob Storage\n",
    "    blob_client = container_client.get_blob_client(file_name)\n",
    "    blob_client.upload_blob(parquet_buffer.getvalue(), overwrite=True)\n",
    "\n",
    "    print(f\"Arquivo Parquet '{file_name}' enviado com sucesso para o Azure Blob Storage.\")\n",
    "\n",
    "def processar_dados_deputados(account_name, account_key, container_name_send):\n",
    "    url = \"https://dadosabertos.camara.leg.br/api/v2/deputados\"\n",
    "    dados = extrair_dados_api(url)\n",
    "    if dados:\n",
    "        df = transformar_dados_para_dataframe(dados)\n",
    "        enviar_parquet_azure(account_name, account_key, container_name_send, 'deputadosPartidos.parquet', df)\n",
    "        print(\"Processamento dos dados de deputados concluído.\")\n",
    "\n",
    "# Processar dados dos deputados\n",
    "processar_dados_deputados(account_name, account_key, container_name_send)\n"
   ]
  },
  {
   "cell_type": "code",
   "execution_count": 1,
   "metadata": {},
   "outputs": [],
   "source": []
  },
  {
   "cell_type": "markdown",
   "metadata": {},
   "source": []
  }
 ],
 "metadata": {
  "kernelspec": {
   "display_name": "Python 3",
   "language": "python",
   "name": "python3"
  },
  "language_info": {
   "codemirror_mode": {
    "name": "ipython",
    "version": 3
   },
   "file_extension": ".py",
   "mimetype": "text/x-python",
   "name": "python",
   "nbconvert_exporter": "python",
   "pygments_lexer": "ipython3",
   "version": "3.9.12"
  }
 },
 "nbformat": 4,
 "nbformat_minor": 2
}
